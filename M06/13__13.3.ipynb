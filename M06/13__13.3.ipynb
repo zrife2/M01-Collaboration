{
 "cells": [
  {
   "cell_type": "code",
   "execution_count": null,
   "id": "026c60c3",
   "metadata": {},
   "outputs": [],
   "source": [
    "#Zain Rife\n",
    "#5/1/2023\n",
    "#Problems 13.1-13.3\n",
    "from dateutil import parser\n",
    "\n",
    "with open(\"today.txt\", \"w\") as f:\n",
    "    f.write(str(datetime.datetime.now()))\n",
    "\n",
    "with open(\"today.txt\", \"r\") as f:\n",
    "    today_string = f.read()\n",
    "\n",
    "today_date = parser.parse(today_string)\n",
    "\n",
    "print(\"Today's date is:\", today_date)\n"
   ]
  }
 ],
 "metadata": {
  "kernelspec": {
   "display_name": "Python 3 (ipykernel)",
   "language": "python",
   "name": "python3"
  },
  "language_info": {
   "codemirror_mode": {
    "name": "ipython",
    "version": 3
   },
   "file_extension": ".py",
   "mimetype": "text/x-python",
   "name": "python",
   "nbconvert_exporter": "python",
   "pygments_lexer": "ipython3",
   "version": "3.9.13"
  }
 },
 "nbformat": 4,
 "nbformat_minor": 5
}
