{
 "cells": [
  {
   "cell_type": "code",
   "execution_count": 1,
   "id": "a82438c9",
   "metadata": {},
   "outputs": [
    {
     "name": "stdout",
     "output_type": "stream",
     "text": [
      "Enter the year: 2022\n",
      "Enter the make: toyota\n",
      "Enter the model: corolla\n",
      "Enter the number of doors (2 or 4): 4\n",
      "Enter the type of roof (solid or sun roof): solid\n",
      "Vehicle type: car\n",
      "Year: 2022\n",
      "Make: toyota\n",
      "Model: corolla\n",
      "Number of doors: 4\n",
      "Type of roof: solid\n"
     ]
    }
   ],
   "source": [
    "class Vehicle:\n",
    "    def __init__(self, vehicle_type):\n",
    "        self.vehicle_type = vehicle_type\n",
    "\n",
    "class Automobile(Vehicle):\n",
    "    def __init__(self, vehicle_type, year, make, model, doors, roof):\n",
    "        super().__init__(vehicle_type)\n",
    "        self.year = year\n",
    "        self.make = make\n",
    "        self.model = model\n",
    "        self.doors = doors\n",
    "        self.roof = roof\n",
    "\n",
    "    def __str__(self):\n",
    "        return f\"Vehicle type: {self.vehicle_type}\\nYear: {self.year}\\nMake: {self.make}\\nModel: {self.model}\\nNumber of doors: {self.doors}\\nType of roof: {self.roof}\"\n",
    "\n",
    "vehicle_type = \"car\"  \n",
    "year = input(\"Enter the year: \")\n",
    "make = input(\"Enter the make: \")\n",
    "model = input(\"Enter the model: \")\n",
    "doors = input(\"Enter the number of doors (2 or 4): \")\n",
    "roof = input(\"Enter the type of roof (solid or sun roof): \")\n",
    "\n",
    "automobile = Automobile(vehicle_type, year, make, model, doors, roof)\n",
    "print(automobile) \n"
   ]
  },
  {
   "cell_type": "code",
   "execution_count": null,
   "id": "24989f1a",
   "metadata": {},
   "outputs": [],
   "source": []
  }
 ],
 "metadata": {
  "kernelspec": {
   "display_name": "Python 3 (ipykernel)",
   "language": "python",
   "name": "python3"
  },
  "language_info": {
   "codemirror_mode": {
    "name": "ipython",
    "version": 3
   },
   "file_extension": ".py",
   "mimetype": "text/x-python",
   "name": "python",
   "nbconvert_exporter": "python",
   "pygments_lexer": "ipython3",
   "version": "3.9.13"
  }
 },
 "nbformat": 4,
 "nbformat_minor": 5
}
