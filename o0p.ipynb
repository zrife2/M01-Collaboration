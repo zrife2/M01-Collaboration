{
 "cells": [
  {
   "cell_type": "code",
   "execution_count": 1,
   "id": "0291f0b9",
   "metadata": {},
   "outputs": [
    {
     "name": "stdout",
     "output_type": "stream",
     "text": [
      "<__main__.Thing object at 0x00000250F2048D00>\n",
      "<__main__.Thing object at 0x00000250F24B6490>\n"
     ]
    }
   ],
   "source": [
    "#Make a class called Thing with no contents and print it\n",
    "#Then, create an object called example from this class and also print it\n",
    "#Are the printed values the same or different?\n",
    "\n",
    "\n",
    "class Thing:\n",
    "    pass\n",
    "\n",
    "print(Thing())   \n",
    "example = Thing()   \n",
    "print(example) "
   ]
  },
  {
   "cell_type": "code",
   "execution_count": 2,
   "id": "4483806d",
   "metadata": {},
   "outputs": [],
   "source": [
    "#Make a class called Element, with instance attributes name,\n",
    "#symbol, and number. Create an object of this class with the values\n",
    "#'Hydrogen', 'H', and 1\n",
    "\n",
    "\n",
    "class Element:\n",
    "    def __init__(self, name, symbol, number):\n",
    "        self.name = name\n",
    "        self.symbol = symbol\n",
    "        self.number = number\n",
    "\n",
    "# creating an object of Element class with the given values\n",
    "hydrogen = Element('Hydrogen', 'H', 1)"
   ]
  },
  {
   "cell_type": "code",
   "execution_count": 1,
   "id": "d825765e",
   "metadata": {},
   "outputs": [
    {
     "name": "stdout",
     "output_type": "stream",
     "text": [
      "Hydrogen\n",
      "H\n",
      "1\n"
     ]
    }
   ],
   "source": [
    "#Make a dictionary with these keys and values: 'name': 'Hydrogen', 'symbol': 'H', 'number': 1. Then, \n",
    "#3create an object called hydrogen from class Element using this dictionary\n",
    "\n",
    "\n",
    "\n",
    "\n",
    "\n",
    "class Element:\n",
    "    def __init__(self, name, symbol, number):\n",
    "        self.name = name\n",
    "        self.symbol = symbol\n",
    "        self.number = number\n",
    "\n",
    "\n",
    "hydrogen_dict = {'name': 'Hydrogen', 'symbol': 'H', 'number': 1}\n",
    "\n",
    "\n",
    "hydrogen = Element(**hydrogen_dict)\n",
    "\n",
    "print(hydrogen.name)   \n",
    "print(hydrogen.symbol)   \n",
    "print(hydrogen.number)\n"
   ]
  },
  {
   "cell_type": "code",
   "execution_count": 2,
   "id": "6269840a",
   "metadata": {},
   "outputs": [
    {
     "name": "stdout",
     "output_type": "stream",
     "text": [
      "berries\n",
      "clover\n",
      "campers\n"
     ]
    }
   ],
   "source": [
    "#Define three classes: Bear, Rabbit, and Octothorpe\n",
    "#For each, define only one method: eats() \n",
    "#This should return 'berries' (Bear), 'clover' (Rabbit), or 'campers' (Octothorpe) \n",
    "#Create one object from each and print what it eats.\n",
    "\n",
    "\n",
    "\n",
    "class Bear:\n",
    "    def eats(self):\n",
    "        return 'berries'\n",
    "\n",
    "class Rabbit:\n",
    "    def eats(self):\n",
    "        return 'clover'\n",
    "\n",
    "class Octothorpe:\n",
    "    def eats(self):\n",
    "        return 'campers'\n",
    "\n",
    "\n",
    "bear = Bear()\n",
    "rabbit = Rabbit()\n",
    "octothorpe = Octothorpe()\n",
    "\n",
    "\n",
    "print(bear.eats())  \n",
    "print(rabbit.eats())   \n",
    "print(octothorpe.eats())   \n"
   ]
  },
  {
   "cell_type": "code",
   "execution_count": null,
   "id": "bff842b0",
   "metadata": {},
   "outputs": [],
   "source": []
  }
 ],
 "metadata": {
  "kernelspec": {
   "display_name": "Python 3 (ipykernel)",
   "language": "python",
   "name": "python3"
  },
  "language_info": {
   "codemirror_mode": {
    "name": "ipython",
    "version": 3
   },
   "file_extension": ".py",
   "mimetype": "text/x-python",
   "name": "python",
   "nbconvert_exporter": "python",
   "pygments_lexer": "ipython3",
   "version": "3.9.13"
  }
 },
 "nbformat": 4,
 "nbformat_minor": 5
}
