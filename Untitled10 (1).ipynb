{
 "cells": [
  {
   "cell_type": "code",
   "execution_count": 2,
   "id": "37da1c00",
   "metadata": {},
   "outputs": [
    {
     "name": "stdout",
     "output_type": "stream",
     "text": [
      "too high\n"
     ]
    }
   ],
   "source": [
    "#4.1\n",
    "#Choose a number between 1 and 10 and assign it to the variable secret. \n",
    "#Then, select another number between 1 and 10 and assign it to the variable guess. \n",
    "#Next, write the conditional tests (if, else, and elif) to print the string 'too low' if guess is less than secret,\n",
    "#'too high' if greater than secret, and 'just right' if equal to secret.\n",
    "\n",
    "\n",
    "secret = 7  \n",
    "guess = 8  \n",
    "\n",
    "if guess < secret:\n",
    "    print(\"too low\")\n",
    "elif guess > secret:\n",
    "    print(\"too high\")\n",
    "else:\n",
    "    print(\"just right\")"
   ]
  },
  {
   "cell_type": "code",
   "execution_count": 6,
   "id": "a96dacb6",
   "metadata": {},
   "outputs": [
    {
     "name": "stdout",
     "output_type": "stream",
     "text": [
      "cherry\n"
     ]
    }
   ],
   "source": [
    "#4.2\n",
    "#Assign True or False to the variables small and green. \n",
    "#Write some if/else statements to print which of these \n",
    "#matches those choices: cherry, pea, watermelon, pumpkin.\n",
    "\n",
    "small = True  \n",
    "green = False  \n",
    "\n",
    "if small and green:\n",
    "    print(\"pea\")\n",
    "elif small and not green:\n",
    "    print(\"cherry\")\n",
    "elif not small and green:\n",
    "    print(\"watermelon\")\n",
    "else:\n",
    "    print(\"pumpkin\")"
   ]
  },
  {
   "cell_type": "code",
   "execution_count": 7,
   "id": "cd34fdc4",
   "metadata": {},
   "outputs": [
    {
     "name": "stdout",
     "output_type": "stream",
     "text": [
      "3\n",
      "2\n",
      "1\n",
      "0\n"
     ]
    }
   ],
   "source": [
    "#6.1\n",
    "#Use a for loop to print the values of the list [3, 2, 1, 0].\n",
    "\n",
    "for num in [3, 2, 1, 0]:\n",
    "    print(num)"
   ]
  },
  {
   "cell_type": "code",
   "execution_count": 8,
   "id": "41d9a5bc",
   "metadata": {},
   "outputs": [
    {
     "name": "stdout",
     "output_type": "stream",
     "text": [
      "too low\n",
      "too low\n",
      "too low\n",
      "too low\n",
      "too low\n",
      "too low\n",
      "found it!\n"
     ]
    }
   ],
   "source": [
    "#6.2\n",
    "#Assign the value 7 to the variable guess_me, \n",
    "#and the value 1 to the variable number. \n",
    "#Write a while loop that compares number with guess_me. \n",
    "#Print 'too low' if number is less than guess me. \n",
    "#If number equals guess_me, print 'found it!' and then exit the loop. \n",
    "#If number is greater than guess_me, print 'oops' and then exit the loop.\n",
    "#Increment number at the end of the loop.\n",
    "\n",
    "guess_me = 7\n",
    "number = 1\n",
    "while number <= guess_me:\n",
    "    if number < guess_me:\n",
    "        print('too low')\n",
    "    elif number == guess_me:\n",
    "        print('found it!')\n",
    "        break\n",
    "    else:\n",
    "        print('oops')\n",
    "        break\n",
    "    number += 1"
   ]
  },
  {
   "cell_type": "code",
   "execution_count": 9,
   "id": "4ee14634",
   "metadata": {},
   "outputs": [
    {
     "name": "stdout",
     "output_type": "stream",
     "text": [
      "too low\n",
      "too low\n",
      "too low\n",
      "too low\n",
      "too low\n",
      "found it!\n"
     ]
    }
   ],
   "source": [
    "#6.3\n",
    "#Assign the value 5 to the variable guess_me. \n",
    "#Use a for loop to iterate a variable called number over range(10). \n",
    "#If number is less than guess_me, print 'too low'.\n",
    "#If it equals guess_me, print found it! and then break out of the for loop.\n",
    "#If number is greater than guess_me, print 'oops' and then exit the loop.\n",
    "\n",
    "guess_me = 5\n",
    "for number in range(10):\n",
    "    if number < guess_me:\n",
    "        print('too low')\n",
    "    elif number == guess_me:\n",
    "        print('found it!')\n",
    "        break\n",
    "    else:\n",
    "        print('oops')\n",
    "        break"
   ]
  },
  {
   "cell_type": "code",
   "execution_count": null,
   "id": "d6bd4c6a",
   "metadata": {},
   "outputs": [],
   "source": []
  }
 ],
 "metadata": {
  "kernelspec": {
   "display_name": "Python 3 (ipykernel)",
   "language": "python",
   "name": "python3"
  },
  "language_info": {
   "codemirror_mode": {
    "name": "ipython",
    "version": 3
   },
   "file_extension": ".py",
   "mimetype": "text/x-python",
   "name": "python",
   "nbconvert_exporter": "python",
   "pygments_lexer": "ipython3",
   "version": "3.9.13"
  }
 },
 "nbformat": 4,
 "nbformat_minor": 5
}
