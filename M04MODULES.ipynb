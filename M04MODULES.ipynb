{
 "cells": [
  {
   "cell_type": "code",
   "execution_count": null,
   "id": "82f4ea06",
   "metadata": {},
   "outputs": [],
   "source": [
    "#Create a file called zoo.py. \n",
    "#In it, define a function called hours() \n",
    "#that prints the string 'Open 9-5 daily'. \n",
    "#Then, use the interactive interpreter to import the zoo module and call its hours() function.\n",
    "\n",
    "def hours():\n",
    "    print('Open 9-5 daily')\n",
    "\n",
    "\n",
    "import zoo\n",
    "zoo.hours()\n",
    "Open 9-5 daily"
   ]
  },
  {
   "cell_type": "code",
   "execution_count": null,
   "id": "9b93d429",
   "metadata": {},
   "outputs": [],
   "source": [
    "#In the interactive interpreter, \n",
    "#import the zoo module as menagerie and call its hours() function\n",
    "\n",
    "import zoo as menagerie\n",
    "menagerie.hours()\n",
    "Open 9-5 daily\n",
    "\n"
   ]
  },
  {
   "cell_type": "code",
   "execution_count": null,
   "id": "d01604d1",
   "metadata": {},
   "outputs": [],
   "source": []
  },
  {
   "cell_type": "code",
   "execution_count": null,
   "id": "8f3f5b1c",
   "metadata": {},
   "outputs": [],
   "source": [
    "#16.3 Create a CSV file called books2.csv by using these lines:\n",
    "\n",
    "import csv\n",
    "\n",
    "rows = [\n",
    "    ['title', 'author', 'year'],\n",
    "    ['The Weirdstone of Brisingamen', 'Alan Garner', 1960],\n",
    "    ['Perdido Street Station', 'China Miéville', 2000],\n",
    "    ['Thud!', 'Terry Pratchett', 2005],\n",
    "    ['The Spellman Files', 'Lisa Lutz', 2007],\n",
    "    ['Small Gods', 'Terry Pratchett', 1992]\n",
    "]\n",
    "\n",
    "with open('books2.csv', 'w', newline='') as file:\n",
    "    writer = csv.writer(file)\n",
    "    writer.writerows(rows)\n",
    "\n"
   ]
  },
  {
   "cell_type": "code",
   "execution_count": null,
   "id": "53a0ac7a",
   "metadata": {},
   "outputs": [],
   "source": [
    "#16.4 Use the sqlite3 module to create a SQLite database called books.\n",
    "#db and a table called books with these fields: title (text), author (text), and year\n",
    "\n",
    "import sqlite3\n",
    "\n",
    "conn = sqlite3.connect('books.db')\n",
    "c = conn.cursor()\n",
    "\n",
    "c.execute('''CREATE TABLE books\n",
    "             (title TEXT, author TEXT, year INTEGER)''')\n",
    "\n",
    "conn.commit()\n",
    "conn.close()\n"
   ]
  },
  {
   "cell_type": "code",
   "execution_count": null,
   "id": "5247f0cd",
   "metadata": {},
   "outputs": [],
   "source": [
    "#16.5 Read books2.csv and insert its data into the book table.\n",
    "\n",
    "import csv\n",
    "import sqlite3\n",
    "\n",
    "conn = sqlite3.connect('books.db')\n",
    "c = conn.cursor()\n",
    "\n",
    "with open('books2.csv', newline='') as file:\n",
    "    reader = csv.reader(file)\n",
    "    next(reader)  # skip the header row\n",
    "    for row in reader:\n",
    "        c.execute('INSERT INTO books VALUES (?, ?, ?)', row)\n",
    "\n",
    "conn.commit()\n",
    "conn.close()\n",
    "\n"
   ]
  },
  {
   "cell_type": "code",
   "execution_count": null,
   "id": "39662067",
   "metadata": {},
   "outputs": [],
   "source": [
    "#16.8 Use the sqlalchemy module to connect to the sqlite3 database books.\n",
    "#db that you just made in exercise 16.4. As in 16.6, \n",
    "#select and print the title column from the book table in alphabetical order\n",
    "\n",
    "from sqlalchemy import create_engine, select, Table, Column, Integer, String\n",
    "\n",
    "engine = create_engine('sqlite:///books.db', echo=True)\n",
    "\n",
    "metadata = metadata = sqlalchemy.MetaData()\n",
    "\n",
    "books = Table('books', metadata,\n",
    "    Column('title', String),\n",
    "    Column('author', String),\n",
    "    Column('year', Integer),\n",
    ")\n",
    "\n",
    "with engine.connect() as conn:\n",
    "    stmt = select(books.columns.title).order_by(books.columns.title.asc())\n",
    "    result = conn.execute(stmt)\n",
    "    for row in result:\n",
    "        print(row.title)\n"
   ]
  }
 ],
 "metadata": {
  "kernelspec": {
   "display_name": "Python 3 (ipykernel)",
   "language": "python",
   "name": "python3"
  },
  "language_info": {
   "codemirror_mode": {
    "name": "ipython",
    "version": 3
   },
   "file_extension": ".py",
   "mimetype": "text/x-python",
   "name": "python",
   "nbconvert_exporter": "python",
   "pygments_lexer": "ipython3",
   "version": "3.9.13"
  }
 },
 "nbformat": 4,
 "nbformat_minor": 5
}
