{
 "cells": [
  {
   "cell_type": "code",
   "execution_count": 1,
   "id": "9915ae4b",
   "metadata": {},
   "outputs": [
    {
     "name": "stdout",
     "output_type": "stream",
     "text": [
      "Enter student's last name (ZZZ to quit): rife\n",
      "Enter student's first name: zain\n",
      "Enter student's GPA: 3.4\n",
      "zain rife has made the Honor Roll.\n",
      "Enter student's last name (ZZZ to quit): ZZZ\n"
     ]
    }
   ],
   "source": [
    "#Zain\n",
    "# File Name: student_gpa.py\n",
    "# Description: This app gets students names and gpa's, it then\n",
    "#tests if the student qualifies for either the Dean's List or the Honor Roll.\n",
    "\n",
    "while True:\n",
    "    last_name = input(\"Enter student's last name (ZZZ to quit): \")\n",
    "    if last_name == 'ZZZ':\n",
    "        break\n",
    "    first_name = input(\"Enter student's first name: \")\n",
    "    gpa = float(input(\"Enter student's GPA: \"))\n",
    "    if gpa >= 3.5:\n",
    "        print(f\"{first_name} {last_name} has made the Dean's List.\")\n",
    "    elif gpa >= 3.25:\n",
    "        print(f\"{first_name} {last_name} has made the Honor Roll.\")\n"
   ]
  },
  {
   "cell_type": "code",
   "execution_count": null,
   "id": "8e4e7bd7",
   "metadata": {},
   "outputs": [],
   "source": []
  }
 ],
 "metadata": {
  "kernelspec": {
   "display_name": "Python 3 (ipykernel)",
   "language": "python",
   "name": "python3"
  },
  "language_info": {
   "codemirror_mode": {
    "name": "ipython",
    "version": 3
   },
   "file_extension": ".py",
   "mimetype": "text/x-python",
   "name": "python",
   "nbconvert_exporter": "python",
   "pygments_lexer": "ipython3",
   "version": "3.9.13"
  }
 },
 "nbformat": 4,
 "nbformat_minor": 5
}
