{
 "cells": [
  {
   "cell_type": "code",
   "execution_count": 3,
   "id": "28481d3e",
   "metadata": {},
   "outputs": [],
   "source": [
    "#Define a function called good() that returns the \n",
    "#following list: ['Harry', 'Ron', 'Hermione']\n",
    "\n",
    "def good():\n",
    "    return ['Harry', 'Ron', 'Hermione']\n"
   ]
  },
  {
   "cell_type": "code",
   "execution_count": null,
   "id": "c4a5e68c",
   "metadata": {},
   "outputs": [],
   "source": [
    "\n",
    "#Define a generator function called get_odds() \n",
    "#that returns the odd numbers from range(10) \n",
    "#Use a for loop to find and print the third value returned\n",
    "# python and make it as simple as possible please\n",
    "\n",
    "\n",
    "def get_odds():\n",
    "    for num in range(1, 10, 2):\n",
    "        yield num\n",
    "\n",
    "count = 0\n",
    "for num in get_odds():\n",
    "    count += 1\n",
    "    if count == 3:\n",
    "        print(num)\n",
    "        break\n"
   ]
  }
 ],
 "metadata": {
  "kernelspec": {
   "display_name": "Python 3 (ipykernel)",
   "language": "python",
   "name": "python3"
  },
  "language_info": {
   "codemirror_mode": {
    "name": "ipython",
    "version": 3
   },
   "file_extension": ".py",
   "mimetype": "text/x-python",
   "name": "python",
   "nbconvert_exporter": "python",
   "pygments_lexer": "ipython3",
   "version": "3.9.13"
  }
 },
 "nbformat": 4,
 "nbformat_minor": 5
}
